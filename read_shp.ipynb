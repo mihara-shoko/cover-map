{
 "cells": [
  {
   "cell_type": "code",
   "execution_count": 1,
   "id": "a75787d3-3c27-40dc-8a81-d4afd968f5d8",
   "metadata": {},
   "outputs": [
    {
     "name": "stdout",
     "output_type": "stream",
     "text": [
      "L03-b-21_5138-jgd2011_GML      L03-b-21_5239-jgd2011_GML.zip\n",
      "L03-b-21_5138-jgd2011_GML.zip  L03-b-21_5338-jgd2011_GML\n",
      "L03-b-21_5237-jgd2011_GML      L03-b-21_5338-jgd2011_GML.zip\n",
      "L03-b-21_5237-jgd2011_GML.zip  L03-b-21_5339-jgd2011_GML\n",
      "L03-b-21_5238-jgd2011_GML      L03-b-21_5339-jgd2011_GML.zip\n",
      "L03-b-21_5238-jgd2011_GML.zip  polygon\n",
      "L03-b-21_5239-jgd2011_GML\n"
     ]
    }
   ],
   "source": [
    "!ls ../data/shizuoka"
   ]
  },
  {
   "cell_type": "code",
   "execution_count": 2,
   "id": "ffb0ece7-9e50-4e6b-bf23-7542857c6520",
   "metadata": {},
   "outputs": [],
   "source": [
    "import geopandas as gpd\n",
    "from glob import glob\n",
    "import pandas as pd\n",
    "import numpy as np\n",
    "import rasterio\n",
    "from rasterio.features import rasterize"
   ]
  },
  {
   "cell_type": "code",
   "execution_count": 3,
   "id": "ad90e837-bfd4-41ce-bbe7-e12020dc1aa4",
   "metadata": {},
   "outputs": [
    {
     "data": {
      "text/plain": [
       "['../data/shizuoka/L03-b-21_5338-jgd2011_GML/L03-b-21_5338.shp',\n",
       " '../data/shizuoka/L03-b-21_5239-jgd2011_GML/L03-b-21_5239.shp',\n",
       " '../data/shizuoka/L03-b-21_5339-jgd2011_GML/L03-b-21_5339.shp',\n",
       " '../data/shizuoka/L03-b-21_5237-jgd2011_GML/L03-b-21_5237.shp',\n",
       " '../data/shizuoka/L03-b-21_5238-jgd2011_GML/L03-b-21_5238.shp',\n",
       " '../data/shizuoka/L03-b-21_5138-jgd2011_GML/L03-b-21_5138.shp']"
      ]
     },
     "execution_count": 3,
     "metadata": {},
     "output_type": "execute_result"
    }
   ],
   "source": [
    "shp_files = glob('../data/shizuoka/*/L03*.shp')\n",
    "shp_files"
   ]
  },
  {
   "cell_type": "code",
   "execution_count": 4,
   "id": "37fe4309-689d-4a6d-8a5c-f2e31b0d0c7c",
   "metadata": {},
   "outputs": [],
   "source": [
    "gdf = gpd.GeoDataFrame()\n",
    "for shp_file in shp_files:\n",
    "    tmp = gpd.read_file(shp_file)\n",
    "    gdf = gpd.GeoDataFrame(pd.concat([gdf, tmp], ignore_index=True))"
   ]
  },
  {
   "cell_type": "code",
   "execution_count": 5,
   "id": "341f1ae8-1dc4-432e-9c4f-05b0496a93cd",
   "metadata": {},
   "outputs": [
    {
     "data": {
      "text/html": [
       "<div>\n",
       "<style scoped>\n",
       "    .dataframe tbody tr th:only-of-type {\n",
       "        vertical-align: middle;\n",
       "    }\n",
       "\n",
       "    .dataframe tbody tr th {\n",
       "        vertical-align: top;\n",
       "    }\n",
       "\n",
       "    .dataframe thead th {\n",
       "        text-align: right;\n",
       "    }\n",
       "</style>\n",
       "<table border=\"1\" class=\"dataframe\">\n",
       "  <thead>\n",
       "    <tr style=\"text-align: right;\">\n",
       "      <th></th>\n",
       "      <th>L03b_001</th>\n",
       "      <th>L03b_002</th>\n",
       "      <th>L03b_003</th>\n",
       "      <th>geometry</th>\n",
       "    </tr>\n",
       "  </thead>\n",
       "  <tbody>\n",
       "    <tr>\n",
       "      <th>0</th>\n",
       "      <td>5338500000</td>\n",
       "      <td>0500</td>\n",
       "      <td>20201025</td>\n",
       "      <td>POLYGON ((138 35.75, 138 35.75083, 138.00125 3...</td>\n",
       "    </tr>\n",
       "    <tr>\n",
       "      <th>1</th>\n",
       "      <td>5338500001</td>\n",
       "      <td>0500</td>\n",
       "      <td>20201025</td>\n",
       "      <td>POLYGON ((138.00125 35.75, 138.00125 35.75083,...</td>\n",
       "    </tr>\n",
       "    <tr>\n",
       "      <th>2</th>\n",
       "      <td>5338500002</td>\n",
       "      <td>0500</td>\n",
       "      <td>20201025</td>\n",
       "      <td>POLYGON ((138.0025 35.75, 138.0025 35.75083, 1...</td>\n",
       "    </tr>\n",
       "    <tr>\n",
       "      <th>3</th>\n",
       "      <td>5338500003</td>\n",
       "      <td>0500</td>\n",
       "      <td>20201025</td>\n",
       "      <td>POLYGON ((138.00375 35.75, 138.00375 35.75083,...</td>\n",
       "    </tr>\n",
       "    <tr>\n",
       "      <th>4</th>\n",
       "      <td>5338500004</td>\n",
       "      <td>0500</td>\n",
       "      <td>20201025</td>\n",
       "      <td>POLYGON ((138.005 35.75, 138.005 35.75083, 138...</td>\n",
       "    </tr>\n",
       "  </tbody>\n",
       "</table>\n",
       "</div>"
      ],
      "text/plain": [
       "     L03b_001 L03b_002  L03b_003  \\\n",
       "0  5338500000     0500  20201025   \n",
       "1  5338500001     0500  20201025   \n",
       "2  5338500002     0500  20201025   \n",
       "3  5338500003     0500  20201025   \n",
       "4  5338500004     0500  20201025   \n",
       "\n",
       "                                            geometry  \n",
       "0  POLYGON ((138 35.75, 138 35.75083, 138.00125 3...  \n",
       "1  POLYGON ((138.00125 35.75, 138.00125 35.75083,...  \n",
       "2  POLYGON ((138.0025 35.75, 138.0025 35.75083, 1...  \n",
       "3  POLYGON ((138.00375 35.75, 138.00375 35.75083,...  \n",
       "4  POLYGON ((138.005 35.75, 138.005 35.75083, 138...  "
      ]
     },
     "execution_count": 5,
     "metadata": {},
     "output_type": "execute_result"
    }
   ],
   "source": [
    "gdf.head()"
   ]
  },
  {
   "cell_type": "code",
   "execution_count": 6,
   "id": "5305b4d3-0bc4-4b87-ab51-6cf366b1cc72",
   "metadata": {},
   "outputs": [
    {
     "name": "stdout",
     "output_type": "stream",
     "text": [
      "POLYGON ((138 35.75000000000006, 138 35.75083333300006, 138.00125000000003 35.75083333300006, 138.00125000000003 35.75000000000006, 138 35.75000000000006))\n"
     ]
    }
   ],
   "source": [
    "print(gdf.geometry[0])"
   ]
  },
  {
   "cell_type": "code",
   "execution_count": 7,
   "id": "8a3a1e13-bb4e-4cc4-8793-8b405654d776",
   "metadata": {},
   "outputs": [
    {
     "name": "stdout",
     "output_type": "stream",
     "text": [
      "EPSG:6668\n"
     ]
    }
   ],
   "source": [
    "# 座標系を確認\n",
    "print(gdf.crs) \n",
    "\n",
    "# Webメルカトル（EPSG:3857）に変換\n",
    "gdf_web_mercator = gdf.to_crs(epsg=3857)"
   ]
  },
  {
   "cell_type": "code",
   "execution_count": 8,
   "id": "b5a9f0f4-1c41-4971-a3c7-437850452ee1",
   "metadata": {},
   "outputs": [
    {
     "name": "stdout",
     "output_type": "stream",
     "text": [
      "EPSG:3857\n"
     ]
    }
   ],
   "source": [
    "print(gdf_web_mercator.crs) "
   ]
  },
  {
   "cell_type": "code",
   "execution_count": 9,
   "id": "b6d8eb9f-d2cd-47f4-9f8e-409b4d1aab70",
   "metadata": {},
   "outputs": [],
   "source": [
    "gdf = None"
   ]
  },
  {
   "cell_type": "code",
   "execution_count": 10,
   "id": "c3a608e1-6ca3-43b9-bb40-4205bebb61a7",
   "metadata": {},
   "outputs": [
    {
     "data": {
      "text/html": [
       "<div>\n",
       "<style scoped>\n",
       "    .dataframe tbody tr th:only-of-type {\n",
       "        vertical-align: middle;\n",
       "    }\n",
       "\n",
       "    .dataframe tbody tr th {\n",
       "        vertical-align: top;\n",
       "    }\n",
       "\n",
       "    .dataframe thead th {\n",
       "        text-align: right;\n",
       "    }\n",
       "</style>\n",
       "<table border=\"1\" class=\"dataframe\">\n",
       "  <thead>\n",
       "    <tr style=\"text-align: right;\">\n",
       "      <th></th>\n",
       "      <th>L03b_001</th>\n",
       "      <th>L03b_002</th>\n",
       "      <th>L03b_003</th>\n",
       "      <th>geometry</th>\n",
       "    </tr>\n",
       "  </thead>\n",
       "  <tbody>\n",
       "    <tr>\n",
       "      <th>0</th>\n",
       "      <td>5338500000</td>\n",
       "      <td>0500</td>\n",
       "      <td>20201025</td>\n",
       "      <td>POLYGON ((15362089.729 4266276.06, 15362089.72...</td>\n",
       "    </tr>\n",
       "    <tr>\n",
       "      <th>1</th>\n",
       "      <td>5338500001</td>\n",
       "      <td>0500</td>\n",
       "      <td>20201025</td>\n",
       "      <td>POLYGON ((15362228.879 4266276.06, 15362228.87...</td>\n",
       "    </tr>\n",
       "    <tr>\n",
       "      <th>2</th>\n",
       "      <td>5338500002</td>\n",
       "      <td>0500</td>\n",
       "      <td>20201025</td>\n",
       "      <td>POLYGON ((15362368.028 4266276.06, 15362368.02...</td>\n",
       "    </tr>\n",
       "    <tr>\n",
       "      <th>3</th>\n",
       "      <td>5338500003</td>\n",
       "      <td>0500</td>\n",
       "      <td>20201025</td>\n",
       "      <td>POLYGON ((15362507.178 4266276.06, 15362507.17...</td>\n",
       "    </tr>\n",
       "    <tr>\n",
       "      <th>4</th>\n",
       "      <td>5338500004</td>\n",
       "      <td>0500</td>\n",
       "      <td>20201025</td>\n",
       "      <td>POLYGON ((15362646.327 4266276.06, 15362646.32...</td>\n",
       "    </tr>\n",
       "  </tbody>\n",
       "</table>\n",
       "</div>"
      ],
      "text/plain": [
       "     L03b_001 L03b_002  L03b_003  \\\n",
       "0  5338500000     0500  20201025   \n",
       "1  5338500001     0500  20201025   \n",
       "2  5338500002     0500  20201025   \n",
       "3  5338500003     0500  20201025   \n",
       "4  5338500004     0500  20201025   \n",
       "\n",
       "                                            geometry  \n",
       "0  POLYGON ((15362089.729 4266276.06, 15362089.72...  \n",
       "1  POLYGON ((15362228.879 4266276.06, 15362228.87...  \n",
       "2  POLYGON ((15362368.028 4266276.06, 15362368.02...  \n",
       "3  POLYGON ((15362507.178 4266276.06, 15362507.17...  \n",
       "4  POLYGON ((15362646.327 4266276.06, 15362646.32...  "
      ]
     },
     "execution_count": 10,
     "metadata": {},
     "output_type": "execute_result"
    }
   ],
   "source": [
    "gdf_web_mercator.head()"
   ]
  },
  {
   "cell_type": "code",
   "execution_count": 11,
   "id": "1b308eb7-5a38-4b92-8fe0-52c58400f5ed",
   "metadata": {},
   "outputs": [
    {
     "name": "stdout",
     "output_type": "stream",
     "text": [
      "   id                                           geometry\n",
      "0   1  POLYGON ((15387378.041 4251823.906, 15391391.1...\n"
     ]
    }
   ],
   "source": [
    "# ポリゴンのシェープファイルの読み込み\n",
    "polygon_file = \"../data/shizuoka/polygon/shizuoka.shp\"\n",
    "gdf_polygon = gpd.read_file(polygon_file)\n",
    "\n",
    "# データの確認\n",
    "print(gdf_polygon.head()) "
   ]
  },
  {
   "cell_type": "code",
   "execution_count": 12,
   "id": "436fa7e2-66eb-46cc-9851-6348f96c0d29",
   "metadata": {},
   "outputs": [],
   "source": [
    "# 静岡県を切り出す\n",
    "\n",
    "polygon = gdf_polygon.geometry[0]  # 必要に応じてインデックスを調整\n",
    "\n",
    "# ポリゴン内にピクセルの緯度経度が入っているかを判定\n",
    "\n",
    "gdf_web_mercator['is_in'] = np.where(polygon.contains(gdf_web_mercator['geometry'].centroid), 1, 0)"
   ]
  },
  {
   "cell_type": "code",
   "execution_count": 13,
   "id": "5cc017f5-cac9-44a8-b8a4-67b2d7464a7e",
   "metadata": {},
   "outputs": [],
   "source": [
    "gdf_shizuoka = gdf_web_mercator[gdf_web_mercator['is_in'] == 1]\n",
    "gdf_shizuoka = gdf_shizuoka.reset_index(drop=True)"
   ]
  },
  {
   "cell_type": "code",
   "execution_count": 14,
   "id": "32ac5ed1-0b02-4502-9e3d-2f0787adc70b",
   "metadata": {},
   "outputs": [],
   "source": [
    "gdf_web_mercator = None"
   ]
  },
  {
   "cell_type": "code",
   "execution_count": 15,
   "id": "b132e454-6445-4ed5-b516-7ce1f12a8213",
   "metadata": {},
   "outputs": [],
   "source": [
    "# 森林=1、建物用地=2、その他=3、に分類\n",
    "\n",
    "gdf_shizuoka['category'] = 3\n",
    "for i in range(len(gdf_shizuoka)):\n",
    "  if gdf_shizuoka.loc[i, 'L03b_002'] == '0500':\n",
    "    gdf_shizuoka.loc[i, 'category'] = 1\n",
    "  elif gdf_shizuoka.loc[i, 'L03b_002'] == '0700':\n",
    "    gdf_shizuoka.loc[i, 'category'] = 2\n",
    "  else:\n",
    "    gdf_shizuoka.loc[i, 'category'] = 3"
   ]
  },
  {
   "cell_type": "code",
   "execution_count": 16,
   "id": "9494c740-39d4-4ceb-8a95-03829e8de43c",
   "metadata": {},
   "outputs": [
    {
     "name": "stdout",
     "output_type": "stream",
     "text": [
      "forest:  1720364569.1537557\n",
      "city:  154963534.3680736\n"
     ]
    }
   ],
   "source": [
    "# 面積を比較\n",
    "print('forest: ', sum(gdf_shizuoka[gdf_shizuoka['category']==1].geometry.area))\n",
    "print('city: ', sum(gdf_shizuoka[gdf_shizuoka['category']==2].geometry.area))"
   ]
  },
  {
   "cell_type": "code",
   "execution_count": 17,
   "id": "e5fa067e-ff22-4908-ae06-5658af98a5bc",
   "metadata": {},
   "outputs": [],
   "source": [
    "bounds = gdf_shizuoka.total_bounds  # (minx, miny, maxx, maxy)\n",
    "\n",
    "# 出力するラスタの解像度を決定\n",
    "pixel_size = 2\n",
    "width = int((bounds[2] - bounds[0])/pixel_size)\n",
    "height = int((bounds[3] - bounds[1])/pixel_size)\n",
    "\n",
    "# 新しいラスタファイルのメタデータを作成\n",
    "transform = rasterio.transform.from_origin(bounds[0], bounds[3], pixel_size, pixel_size)\n",
    "\n",
    "# 5. `category`カラムをラスタ化: 属性値をラスタピクセル値に変換\n",
    "# 各ポリゴンのジオメトリとその'category'値をリストにして渡す\n",
    "\n",
    "shapes = [(geom, value) for geom, value in zip(gdf_shizuoka.geometry, gdf_shizuoka['category'])]\n",
    "\n",
    "# ラスタ化\n",
    "raster = rasterize(\n",
    "    shapes,\n",
    "    out_shape=(height, width),\n",
    "    transform=transform,\n",
    "    fill=0,  # 背景の値\n",
    "    dtype=np.uint8  # valueバンド\n",
    ")\n",
    "\n",
    "\n"
   ]
  },
  {
   "cell_type": "code",
   "execution_count": null,
   "id": "7e83855b-a3b2-4dc2-ae58-1805bb7ef98d",
   "metadata": {},
   "outputs": [],
   "source": [
    "with rasterio.open('output.tif', 'w', driver='GTiff',\n",
    "                   height=height, width=width,\n",
    "                   count=2, dtype=np.uint8,  # 2バンド（valueとcategory）\n",
    "                   crs=gdf_shizuoka.crs, transform=transform) as dst:\n",
    "    # valueバンドを1バンド目として書き込み\n",
    "    dst.write(raster, 1)\n",
    "    # categoryバンドを2バンド目として書き込み\n",
    "    dst.write(raster, 2)"
   ]
  }
 ],
 "metadata": {
  "kernelspec": {
   "display_name": "Python 3 (ipykernel)",
   "language": "python",
   "name": "python3"
  },
  "language_info": {
   "codemirror_mode": {
    "name": "ipython",
    "version": 3
   },
   "file_extension": ".py",
   "mimetype": "text/x-python",
   "name": "python",
   "nbconvert_exporter": "python",
   "pygments_lexer": "ipython3",
   "version": "3.9.21"
  }
 },
 "nbformat": 4,
 "nbformat_minor": 5
}
