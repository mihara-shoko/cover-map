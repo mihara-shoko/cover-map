{
 "cells": [
  {
   "cell_type": "code",
   "execution_count": 1,
   "id": "8adf0cf8-6381-4398-a4d9-89758315f4f4",
   "metadata": {},
   "outputs": [
    {
     "name": "stdout",
     "output_type": "stream",
     "text": [
      "JAXA_HRLULC_Japan_v23.12\t    output_with_category_and_value.tif.aux.xml\n",
      "JAXA_HRLULC_Japan_v23.12.zip\t    polygonA.dbf\n",
      "L03-b-14_5239-jgd_GML\t\t    polygonA.prj\n",
      "L03-b-14_5239-jgd_GML.zip\t    polygonA.qix\n",
      "LC_N35E139.tif\t\t\t    polygonA.shp\n",
      "output_with_category.tif\t    polygonA.shx\n",
      "output_with_category.tif.aux.xml    shizuoka\n",
      "output_with_category_and_value.tif\n"
     ]
    }
   ],
   "source": [
    "!ls ../data"
   ]
  },
  {
   "cell_type": "code",
   "execution_count": 7,
   "id": "67062ed6-f075-44b2-9e68-7e7f8a3e9506",
   "metadata": {},
   "outputs": [
    {
     "name": "stdout",
     "output_type": "stream",
     "text": [
      "MetaData: {'driver': 'GTiff', 'dtype': 'uint8', 'nodata': 0.0, 'width': 12000, 'height': 12000, 'count': 1, 'crs': CRS.from_wkt('GEOGCS[\"WGS 84\",DATUM[\"WGS_1984\",SPHEROID[\"WGS 84\",6378137,298.257223563,AUTHORITY[\"EPSG\",\"7030\"]],AUTHORITY[\"EPSG\",\"6326\"]],PRIMEM[\"Greenwich\",0,AUTHORITY[\"EPSG\",\"8901\"]],UNIT[\"degree\",0.0174532925199433,AUTHORITY[\"EPSG\",\"9122\"]],AXIS[\"Latitude\",NORTH],AXIS[\"Longitude\",EAST],AUTHORITY[\"EPSG\",\"4326\"]]'), 'transform': Affine(8.333333333334045e-05, 0.0, 139.0,\n",
      "       0.0, -8.333333333334045e-05, 35.99999999999994)}\n",
      "Transform: | 0.00, 0.00, 139.00|\n",
      "| 0.00,-0.00, 36.00|\n",
      "| 0.00, 0.00, 1.00|\n",
      "CRS: EPSG:4326\n"
     ]
    }
   ],
   "source": [
    "import rasterio\n",
    "\n",
    "# GeoTIFFファイルのパスを指定\n",
    "tiff_file = \"../data/LC_N35E139.tif\"\n",
    "\n",
    "# GeoTIFFを開く\n",
    "with rasterio.open(tiff_file) as src:\n",
    "    # メタデータを取得\n",
    "    print(\"MetaData:\", src.meta)\n",
    "    \n",
    "    # 画像データ（バンド情報）を読み込む\n",
    "    band1 = src.read(1)  # 1番目のバンド\n",
    "    \n",
    "    # 座標変換情報を取得\n",
    "    transform = src.transform\n",
    "    print(\"Transform:\", transform)\n",
    "    \n",
    "    # 座標系（CRS）を取得\n",
    "    crs = src.crs\n",
    "    print(\"CRS:\", crs)\n",
    "\n",
    "    bounds = src.bounds\n"
   ]
  },
  {
   "cell_type": "code",
   "execution_count": 6,
   "id": "4a427d2d-a727-4ede-ba9b-2342dddc7d45",
   "metadata": {},
   "outputs": [
    {
     "data": {
      "text/plain": [
       "np.uint8(9)"
      ]
     },
     "execution_count": 6,
     "metadata": {},
     "output_type": "execute_result"
    }
   ],
   "source": [
    "band1[0][0]"
   ]
  },
  {
   "cell_type": "code",
   "execution_count": 8,
   "id": "3e2b5978-a79f-4fc9-9117-92253af4c2b9",
   "metadata": {},
   "outputs": [
    {
     "data": {
      "text/plain": [
       "BoundingBox(left=139.0, bottom=34.99999999999986, right=140.00000000000009, top=35.99999999999994)"
      ]
     },
     "execution_count": 8,
     "metadata": {},
     "output_type": "execute_result"
    }
   ],
   "source": [
    " bounds"
   ]
  },
  {
   "cell_type": "code",
   "execution_count": 3,
   "id": "d4af974d-2f91-437b-af43-fcf76fa2135c",
   "metadata": {},
   "outputs": [
    {
     "name": "stdout",
     "output_type": "stream",
     "text": [
      "transform: | 10.39, 0.00, 15473409.22|\n",
      "| 0.00,-10.39, 4300621.37|\n",
      "| 0.00, 0.00, 1.00|\n",
      "Reprojected GeoTIFF saved to: ../data/LC_N35E139_3857.tif\n"
     ]
    }
   ],
   "source": [
    "import rasterio\n",
    "from rasterio.warp import calculate_default_transform, reproject, Resampling\n",
    "\n",
    "# 入力GeoTIFFファイル\n",
    "input_tiff = \"../data/LC_N35E139.tif\"\n",
    "\n",
    "# 出力GeoTIFFファイル\n",
    "output_tiff = \"../data/LC_N35E139_3857.tif\"\n",
    "\n",
    "# 変換する座標系（EPSG:3857）\n",
    "dst_crs = \"EPSG:3857\"\n",
    "\n",
    "# GeoTIFFを開く\n",
    "with rasterio.open(input_tiff) as src:\n",
    "    # リプロジェクションのパラメータを計算\n",
    "    transform, width, height = calculate_default_transform(\n",
    "        src.crs, dst_crs, src.width, src.height, *src.bounds\n",
    "    )\n",
    "\n",
    "    print(f\"transform: {transform}\")\n",
    "    \n",
    "    # メタデータを更新\n",
    "    kwargs = src.meta.copy()\n",
    "    kwargs.update({\n",
    "        \"crs\": dst_crs,\n",
    "        \"transform\": transform,\n",
    "        \"width\": width,\n",
    "        \"height\": height\n",
    "    })\n",
    "    \n",
    "    # 新しいGeoTIFFを保存\n",
    "    with rasterio.open(output_tiff, \"w\", **kwargs) as dst:\n",
    "        for i in range(1, src.count + 1):  # 各バンドをリプロジェクション\n",
    "            reproject(\n",
    "                source=rasterio.band(src, i),\n",
    "                destination=rasterio.band(dst, i),\n",
    "                src_transform=src.transform,\n",
    "                src_crs=src.crs,\n",
    "                dst_transform=transform,\n",
    "                dst_crs=dst_crs,\n",
    "                resampling=Resampling.nearest  # リサンプリング方法（ここではnearest）\n",
    "            )\n",
    "\n",
    "print(\"Reprojected GeoTIFF saved to:\", output_tiff)\n"
   ]
  },
  {
   "cell_type": "code",
   "execution_count": 28,
   "id": "2b73bab8-1246-4463-86d5-c82a4ba5d150",
   "metadata": {},
   "outputs": [],
   "source": [
    "src = rasterio.open(\"../data/LC_N35E139.tif\")"
   ]
  },
  {
   "cell_type": "code",
   "execution_count": 29,
   "id": "7a1ac39b-f3bd-4729-af91-1fe549246595",
   "metadata": {},
   "outputs": [
    {
     "data": {
      "text/plain": [
       "Affine(8.333333333334045e-05, 0.0, 139.0,\n",
       "       0.0, -8.333333333334045e-05, 35.99999999999994)"
      ]
     },
     "execution_count": 29,
     "metadata": {},
     "output_type": "execute_result"
    }
   ],
   "source": [
    "src.transform"
   ]
  },
  {
   "cell_type": "code",
   "execution_count": 31,
   "id": "0fd3c542-1494-434b-9db2-8219f06e35b0",
   "metadata": {},
   "outputs": [],
   "source": [
    "src = rasterio.open(tiff_file)"
   ]
  },
  {
   "cell_type": "code",
   "execution_count": 17,
   "id": "514fce34-5c2c-413b-8d6e-104b272c3a9d",
   "metadata": {},
   "outputs": [
    {
     "data": {
      "text/plain": [
       "BoundingBox(left=15473409.220265027, bottom=4163879.2106042877, right=15584727.168571986, top=4300621.372044263)"
      ]
     },
     "execution_count": 17,
     "metadata": {},
     "output_type": "execute_result"
    }
   ],
   "source": [
    "src.bounds"
   ]
  },
  {
   "cell_type": "code",
   "execution_count": 18,
   "id": "8b49e772-3cbf-48dc-bf62-b32429df550d",
   "metadata": {},
   "outputs": [
    {
     "data": {
      "text/plain": [
       "Affine(10.389952240709333, 0.0, 15473409.220265027,\n",
       "       0.0, -10.389952240709333, 4300621.372044263)"
      ]
     },
     "execution_count": 18,
     "metadata": {},
     "output_type": "execute_result"
    }
   ],
   "source": [
    "src.transform"
   ]
  },
  {
   "cell_type": "code",
   "execution_count": 20,
   "id": "a7222918-d784-41fe-ac3d-b0ba3a03ed6d",
   "metadata": {},
   "outputs": [
    {
     "data": {
      "text/plain": [
       "CRS.from_wkt('PROJCS[\"WGS 84 / Pseudo-Mercator\",GEOGCS[\"WGS 84\",DATUM[\"WGS_1984\",SPHEROID[\"WGS 84\",6378137,298.257223563,AUTHORITY[\"EPSG\",\"7030\"]],AUTHORITY[\"EPSG\",\"6326\"]],PRIMEM[\"Greenwich\",0,AUTHORITY[\"EPSG\",\"8901\"]],UNIT[\"degree\",0.0174532925199433,AUTHORITY[\"EPSG\",\"9122\"]],AUTHORITY[\"EPSG\",\"4326\"]],PROJECTION[\"Mercator_1SP\"],PARAMETER[\"central_meridian\",0],PARAMETER[\"scale_factor\",1],PARAMETER[\"false_easting\",0],PARAMETER[\"false_northing\",0],UNIT[\"metre\",1,AUTHORITY[\"EPSG\",\"9001\"]],AXIS[\"Easting\",EAST],AXIS[\"Northing\",NORTH],EXTENSION[\"PROJ4\",\"+proj=merc +a=6378137 +b=6378137 +lat_ts=0 +lon_0=0 +x_0=0 +y_0=0 +k=1 +units=m +nadgrids=@null +wktext +no_defs\"],AUTHORITY[\"EPSG\",\"3857\"]]')"
      ]
     },
     "execution_count": 20,
     "metadata": {},
     "output_type": "execute_result"
    }
   ],
   "source": [
    "src.crs"
   ]
  },
  {
   "cell_type": "code",
   "execution_count": 40,
   "id": "a153f586-01b3-4548-979d-e62961a686a9",
   "metadata": {},
   "outputs": [
    {
     "name": "stdout",
     "output_type": "stream",
     "text": [
      "Metadata: {'driver': 'GTiff', 'dtype': 'uint8', 'nodata': 0.0, 'width': 10714, 'height': 13161, 'count': 1, 'crs': CRS.from_wkt('PROJCS[\"WGS 84 / Pseudo-Mercator\",GEOGCS[\"WGS 84\",DATUM[\"WGS_1984\",SPHEROID[\"WGS 84\",6378137,298.257223563,AUTHORITY[\"EPSG\",\"7030\"]],AUTHORITY[\"EPSG\",\"6326\"]],PRIMEM[\"Greenwich\",0,AUTHORITY[\"EPSG\",\"8901\"]],UNIT[\"degree\",0.0174532925199433,AUTHORITY[\"EPSG\",\"9122\"]],AUTHORITY[\"EPSG\",\"4326\"]],PROJECTION[\"Mercator_1SP\"],PARAMETER[\"central_meridian\",0],PARAMETER[\"scale_factor\",1],PARAMETER[\"false_easting\",0],PARAMETER[\"false_northing\",0],UNIT[\"metre\",1,AUTHORITY[\"EPSG\",\"9001\"]],AXIS[\"Easting\",EAST],AXIS[\"Northing\",NORTH],EXTENSION[\"PROJ4\",\"+proj=merc +a=6378137 +b=6378137 +lat_ts=0 +lon_0=0 +x_0=0 +y_0=0 +k=1 +units=m +nadgrids=@null +wktext +no_defs\"],AUTHORITY[\"EPSG\",\"3857\"]]'), 'transform': Affine(10.389952240709333, 0.0, 15473409.220265027,\n",
      "       0.0, -10.389952240709333, 4300621.372044263)}\n",
      "Transform: | 10.39, 0.00, 15537673.00|\n",
      "| 0.00,-10.39, 4207209.00|\n",
      "| 0.00, 0.00, 1.00|\n",
      "Extracted data shape: (165, 107)\n"
     ]
    }
   ],
   "source": [
    "import rasterio\n",
    "from rasterio.windows import from_bounds\n",
    "\n",
    "# GeoTIFFファイルのパス\n",
    "tiff_file = \"../data/LC_N35E139_3857.tif\"\n",
    "\n",
    "# 切り出したい緯度経度範囲（min_lon, min_lat, max_lon, max_lat）\n",
    "#bounds = [4205495, 15537673, 4207209, 15538785]\n",
    "# left, bottom, right, top\n",
    "bounds = [15537673, 4205495, 15538785, 4207209]\n",
    "\n",
    "# GeoTIFFを開く\n",
    "with rasterio.open(tiff_file) as src:\n",
    "    # 指定した緯度経度範囲をピクセル座標に変換\n",
    "    window = from_bounds(bounds[0], bounds[1], bounds[2], bounds[3], src.transform)\n",
    "    \n",
    "    # 指定範囲のデータを読み込む（例: バンド1）\n",
    "    data = src.read(1, window=window)  # バンド番号は1\n",
    "    \n",
    "    # 新しい変換行列を取得\n",
    "    transform = src.window_transform(window)\n",
    "    \n",
    "    # メタデータを確認\n",
    "    print(\"Metadata:\", src.meta)\n",
    "    print(\"Transform:\", transform)\n",
    "\n",
    "# 切り出したデータの形状を確認\n",
    "print(\"Extracted data shape:\", data.shape)\n"
   ]
  },
  {
   "cell_type": "code",
   "execution_count": 37,
   "id": "27da85d5-2167-4829-a8ea-cbd9c625f13f",
   "metadata": {},
   "outputs": [
    {
     "data": {
      "text/plain": [
       "Window(col_off=np.float64(6185.1852872988675), row_off=np.float64(8990.644988555403), width=np.float64(107.02647848962806), height=np.float64(164.96707206068095))"
      ]
     },
     "execution_count": 37,
     "metadata": {},
     "output_type": "execute_result"
    }
   ],
   "source": [
    "window"
   ]
  },
  {
   "cell_type": "code",
   "execution_count": 41,
   "id": "70babb7d-9884-4bb3-8026-158741a1215c",
   "metadata": {},
   "outputs": [
    {
     "name": "stdout",
     "output_type": "stream",
     "text": [
      "Cropped GeoTIFF saved to: ../data/LC_N35E139_3857_clip.tif\n"
     ]
    }
   ],
   "source": [
    "# 新しいGeoTIFFファイルのパス\n",
    "output_tiff = \"../data/LC_N35E139_3857_clip.tif\"\n",
    "\n",
    "# 切り出したデータを新しいGeoTIFFに保存\n",
    "with rasterio.open(\n",
    "    output_tiff,\n",
    "    'w',\n",
    "    driver='GTiff',\n",
    "    height=data.shape[0],\n",
    "    width=data.shape[1],\n",
    "    count=1,  # バンド数\n",
    "    dtype=data.dtype,\n",
    "    crs=src.crs,\n",
    "    transform=transform,\n",
    ") as dst:\n",
    "    dst.write(data, 1)  # バンド1を書き込み\n",
    "\n",
    "print(\"Cropped GeoTIFF saved to:\", output_tiff)\n"
   ]
  },
  {
   "cell_type": "code",
   "execution_count": 4,
   "id": "4060a177-41cc-45ca-ac3e-581c32372418",
   "metadata": {},
   "outputs": [],
   "source": [
    "src = rasterio.open(\"../data/LC_N35E139_3857_clip.tif\")"
   ]
  },
  {
   "cell_type": "code",
   "execution_count": 5,
   "id": "c61695a6-aaf1-4ebc-ba66-96d7399c3e97",
   "metadata": {},
   "outputs": [],
   "source": [
    "data1 = src.read(1)"
   ]
  },
  {
   "cell_type": "code",
   "execution_count": 6,
   "id": "aa316a73-31b4-4769-9391-890239325dd4",
   "metadata": {},
   "outputs": [],
   "source": [
    "src2 = rasterio.open(\"../data/LC_N35E139_3857_clip.tif\")"
   ]
  },
  {
   "cell_type": "code",
   "execution_count": 7,
   "id": "7a2f55c1-3fa2-436c-88fa-2794e75c72dc",
   "metadata": {},
   "outputs": [],
   "source": [
    "data2 = src2.read(1)"
   ]
  },
  {
   "cell_type": "code",
   "execution_count": 8,
   "id": "968a8012-2568-4a73-ac11-fa264974ad0a",
   "metadata": {},
   "outputs": [],
   "source": [
    "diff = data1 - data2"
   ]
  },
  {
   "cell_type": "code",
   "execution_count": 1,
   "id": "36c3c10c-3aa4-426c-878c-a926976a5208",
   "metadata": {},
   "outputs": [],
   "source": [
    "import cv2"
   ]
  },
  {
   "cell_type": "code",
   "execution_count": 10,
   "id": "7ccfa24f-dec1-49b5-821c-b5554fb22ce1",
   "metadata": {},
   "outputs": [
    {
     "data": {
      "text/plain": [
       "True"
      ]
     },
     "execution_count": 10,
     "metadata": {},
     "output_type": "execute_result"
    }
   ],
   "source": [
    "cv2.imwrite('../data/diff.png', diff)"
   ]
  },
  {
   "cell_type": "code",
   "execution_count": null,
   "id": "b2b43e6e-654f-4d0f-aea5-0b151e8d86c8",
   "metadata": {},
   "outputs": [],
   "source": []
  }
 ],
 "metadata": {
  "kernelspec": {
   "display_name": "Python 3 (ipykernel)",
   "language": "python",
   "name": "python3"
  },
  "language_info": {
   "codemirror_mode": {
    "name": "ipython",
    "version": 3
   },
   "file_extension": ".py",
   "mimetype": "text/x-python",
   "name": "python",
   "nbconvert_exporter": "python",
   "pygments_lexer": "ipython3",
   "version": "3.9.21"
  }
 },
 "nbformat": 4,
 "nbformat_minor": 5
}
